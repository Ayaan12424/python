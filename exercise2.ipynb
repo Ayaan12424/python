{
  "nbformat": 4,
  "nbformat_minor": 0,
  "metadata": {
    "colab": {
      "provenance": []
    },
    "kernelspec": {
      "name": "python3",
      "display_name": "Python 3"
    },
    "language_info": {
      "name": "python"
    }
  },
  "cells": [
    {
      "cell_type": "code",
      "execution_count": 2,
      "metadata": {
        "colab": {
          "base_uri": "https://localhost:8080/"
        },
        "id": "pbX8rMeNRLYJ",
        "outputId": "dc90ed2e-5588-4a0d-fa4f-df0203709315"
      },
      "outputs": [
        {
          "output_type": "stream",
          "name": "stdout",
          "text": [
            "        0\n",
            "0  Python\n",
            "1  Pandas\n"
          ]
        }
      ],
      "source": [
        "import pandas as pd\n",
        "\n",
        "# a list of strings\n",
        "\n",
        "x = ['Python', 'Pandas']\n",
        "\n",
        "# Calling DataFrame constructor on list\n",
        "\n",
        "df = pd.DataFrame(x)\n",
        "\n",
        "print(df)"
      ]
    },
    {
      "cell_type": "code",
      "source": [
        "#importing the pandas library\n",
        "\n",
        "import pandas as pd\n",
        "\n",
        "info={'ID':[101, 102, 103],'Department':['B.Sc',' B.Tech', 'M.Tech',]}\n",
        "\n",
        "df = pd.DataFrame(info)\n",
        "\n",
        "print (df)"
      ],
      "metadata": {
        "colab": {
          "base_uri": "https://localhost:8080/"
        },
        "id": "6snQMsFfTsZe",
        "outputId": "ad571037-6d0b-431d-bb84-ba5bc3a2c8e8"
      },
      "execution_count": 5,
      "outputs": [
        {
          "output_type": "stream",
          "name": "stdout",
          "text": [
            "    ID Department\n",
            "0  101       B.Sc\n",
            "1  102     B.Tech\n",
            "2  103     M.Tech\n"
          ]
        }
      ]
    },
    {
      "cell_type": "code",
      "source": [
        "import pandas as pd\n",
        "\n",
        "info = {'one': pd.Series([1, 2, 3, 4, 5, 6], index=['a', 'b', 'c', 'd', 'e', 'f']),\n",
        "        'two': pd.Series([1, 2, 3, 4, 5, 6, 7, 8], index=['a', 'b', 'c', 'd', 'e', 'f', 'g', 'h'])}\n",
        "\n",
        "d1 = pd.DataFrame(info)\n",
        "\n",
        "print(d1)"
      ],
      "metadata": {
        "colab": {
          "base_uri": "https://localhost:8080/"
        },
        "id": "rgBFHy32VZhZ",
        "outputId": "7f4d31ec-129c-4e57-dd09-59ddff272242"
      },
      "execution_count": 19,
      "outputs": [
        {
          "output_type": "stream",
          "name": "stdout",
          "text": [
            "   one  two\n",
            "a  1.0    1\n",
            "b  2.0    2\n",
            "c  3.0    3\n",
            "d  4.0    4\n",
            "e  5.0    5\n",
            "f  6.0    6\n",
            "g  NaN    7\n",
            "h  NaN    8\n"
          ]
        }
      ]
    },
    {
      "cell_type": "code",
      "source": [
        "import pandas as pd\n",
        "\n",
        "info = {'one': pd.Series([1, 2, 3, 4, 5, 6], index=['a', 'b', 'c', 'd', 'e', 'f']),\n",
        "        'two': pd.Series([1, 2, 3, 4, 5, 6, 7, 8], index=['a', 'b', 'c', 'd', 'e', 'f', 'g', 'h'])}\n",
        "\n",
        "d1 = pd.DataFrame(info)\n",
        "\n",
        "print(d1['one'])"
      ],
      "metadata": {
        "colab": {
          "base_uri": "https://localhost:8080/"
        },
        "id": "YFzLNhqJbWbx",
        "outputId": "2fdd5388-9367-4f15-83f4-0a7d7346f8f8"
      },
      "execution_count": 24,
      "outputs": [
        {
          "output_type": "stream",
          "name": "stdout",
          "text": [
            "a    1.0\n",
            "b    2.0\n",
            "c    3.0\n",
            "d    4.0\n",
            "e    5.0\n",
            "f    6.0\n",
            "g    NaN\n",
            "h    NaN\n",
            "Name: one, dtype: float64\n"
          ]
        }
      ]
    },
    {
      "cell_type": "code",
      "source": [
        "import pandas as pd\n",
        "\n",
        "info = {'one': pd.Series([1, 2, 3, 4, 5], index=['a', 'b', 'c', 'd', 'e']),\n",
        "        'two': pd.Series([1, 2, 3, 4, 5, 6], index=['a', 'b', 'c', 'd', 'e', 'f'])}\n",
        "\n",
        "df = pd.DataFrame(info)\n",
        "\n",
        "print(\"Add new column by passing series\")\n",
        "df['three'] = pd.Series([20, 40, 80], index=['a', 'b', 'c'])\n",
        "print(df)\n",
        "\n",
        "print(\"Add new column using existing DataFrame columns\")\n",
        "df['four'] = df['one'] + df['three']\n",
        "print(df)"
      ],
      "metadata": {
        "colab": {
          "base_uri": "https://localhost:8080/"
        },
        "id": "4PvC3ko0dn9N",
        "outputId": "7fee5185-33e4-4721-d298-3ac14f12980f"
      },
      "execution_count": 25,
      "outputs": [
        {
          "output_type": "stream",
          "name": "stdout",
          "text": [
            "Add new column by passing series\n",
            "   one  two  three\n",
            "a  1.0    1   20.0\n",
            "b  2.0    2   40.0\n",
            "c  3.0    3   80.0\n",
            "d  4.0    4    NaN\n",
            "e  5.0    5    NaN\n",
            "f  NaN    6    NaN\n",
            "Add new column using existing DataFrame columns\n",
            "   one  two  three  four\n",
            "a  1.0    1   20.0  21.0\n",
            "b  2.0    2   40.0  42.0\n",
            "c  3.0    3   80.0  83.0\n",
            "d  4.0    4    NaN   NaN\n",
            "e  5.0    5    NaN   NaN\n",
            "f  NaN    6    NaN   NaN\n"
          ]
        }
      ]
    },
    {
      "cell_type": "code",
      "source": [
        "import pandas as pd\n",
        "\n",
        "info = {'one': pd.Series([1, 2], index=['a', 'b']),\n",
        "        'two': pd.Series([1, 2, 3], index=['a', 'b', 'c'])}\n",
        "\n",
        "df = pd.DataFrame(info)\n",
        "\n",
        "print(\"The DataFrame:\")\n",
        "print(df)\n",
        "\n",
        "# Using del function\n",
        "print(\"Delete the first column:\")\n",
        "del df['one']\n",
        "print(df)\n",
        "\n",
        "# Using pop function\n",
        "print(\"Delete another column:\")\n",
        "df.pop('two')\n",
        "print(df)"
      ],
      "metadata": {
        "colab": {
          "base_uri": "https://localhost:8080/"
        },
        "id": "tI5UejtkeB_r",
        "outputId": "ffca2587-9f16-4203-954e-c5bac453b077"
      },
      "execution_count": 26,
      "outputs": [
        {
          "output_type": "stream",
          "name": "stdout",
          "text": [
            "The DataFrame:\n",
            "   one  two\n",
            "a  1.0    1\n",
            "b  2.0    2\n",
            "c  NaN    3\n",
            "Delete the first column:\n",
            "   two\n",
            "a    1\n",
            "b    2\n",
            "c    3\n",
            "Delete another column:\n",
            "Empty DataFrame\n",
            "Columns: []\n",
            "Index: [a, b, c]\n"
          ]
        }
      ]
    },
    {
      "cell_type": "code",
      "source": [
        "import pandas as pd\n",
        "\n",
        "info = {'one': pd.Series([1, 2, 3, 4, 5], index=['a', 'b', 'c', 'd', 'e']),\n",
        "'two': pd.Series([1, 2, 3, 4, 5, 6], index=['a', 'b', 'c', 'd', 'e','f'])}\n",
        "\n",
        "df = pd.DataFrame(info)\n",
        "\n",
        "print(df.loc['b'])"
      ],
      "metadata": {
        "colab": {
          "base_uri": "https://localhost:8080/"
        },
        "id": "wuNxtaQ8ei4c",
        "outputId": "6c830b98-ca82-4786-d69c-074d0099b940"
      },
      "execution_count": 31,
      "outputs": [
        {
          "output_type": "stream",
          "name": "stdout",
          "text": [
            "one    2.0\n",
            "two    2.0\n",
            "Name: b, dtype: float64\n"
          ]
        }
      ]
    },
    {
      "cell_type": "code",
      "source": [
        "import pandas as pd\n",
        "\n",
        "info = {'one': pd.Series([1, 2, 3, 4, 5], index=['a', 'b', 'c', 'd', 'e']),\n",
        "        'two': pd.Series([1, 2, 3, 4, 5, 6], index=['a', 'b', 'c', 'd', 'e','f'])}\n",
        "\n",
        "df = pd.DataFrame(info)\n",
        "\n",
        "print(df.iloc[3])"
      ],
      "metadata": {
        "colab": {
          "base_uri": "https://localhost:8080/"
        },
        "id": "npE0Al5HfYPF",
        "outputId": "f0ea7472-0b7f-4c12-f3cf-a57c33a5f12b"
      },
      "execution_count": 38,
      "outputs": [
        {
          "output_type": "stream",
          "name": "stdout",
          "text": [
            "one    4.0\n",
            "two    4.0\n",
            "Name: d, dtype: float64\n"
          ]
        }
      ]
    }
  ]
}